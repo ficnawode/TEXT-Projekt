{
 "cells": [
  {
   "cell_type": "code",
   "execution_count": 1,
   "metadata": {},
   "outputs": [],
   "source": [
    "import wikipedia as wp \n",
    "import pandas as pd\n",
    "from tqdm import tqdm\n",
    "\n",
    "import json\n",
    "import re\n"
   ]
  },
  {
   "cell_type": "code",
   "execution_count": 2,
   "metadata": {},
   "outputs": [],
   "source": [
    "\n",
    "def save_json(data, filename):\n",
    "    with open(filename, 'w') as f:\n",
    "        json.dump(data, f)\n",
    "\n",
    "def load_json(filename):\n",
    "    with open(filename, 'r') as f:\n",
    "        return json.load(f)\n",
    "    \n",
    "class wiki:\n",
    "    @staticmethod\n",
    "    def get_page(title, debug=False):\n",
    "        try:\n",
    "            page = wp.page(title)\n",
    "            if debug:\n",
    "                print(f\"Successfully downloaded article: {page.title}\")\n",
    "            return page\n",
    "        except wp.PageError:\n",
    "            if debug:\n",
    "                print(f\"Page '{title}' does not exist.\")\n",
    "            return None\n",
    "    \n",
    "    @staticmethod\n",
    "    def get_content(title):\n",
    "        page = wiki.get_page(title)\n",
    "        return page.content if page is not None else \"\"\n"
   ]
  },
  {
   "cell_type": "code",
   "execution_count": 7,
   "metadata": {},
   "outputs": [
    {
     "data": {
      "text/plain": [
       "{'Republicans': ['Barry Moore (Alabama politician)',\n",
       "  'Mike Rogers (Alabama politician)',\n",
       "  'Robert Aderholt',\n",
       "  'Dale Strong',\n",
       "  'Gary Palmer (politician)',\n",
       "  'Nick Begich III',\n",
       "  'David Schweikert',\n",
       "  'Eli Crane',\n",
       "  'Andy Biggs',\n",
       "  'Juan Ciscomani',\n",
       "  'Abraham Hamadeh',\n",
       "  'Paul Gosar',\n",
       "  'Rick Crawford (politician)',\n",
       "  'French Hill (politician)',\n",
       "  'Steve Womack',\n",
       "  'Bruce Westerman',\n",
       "  'Doug LaMalfa',\n",
       "  'Kevin Kiley (politician)',\n",
       "  'Tom McClintock',\n",
       "  'Vince Fong',\n",
       "  'David Valadao',\n",
       "  'Jay Obernolte',\n",
       "  'Young Kim',\n",
       "  'Ken Calvert',\n",
       "  'Darrell Issa',\n",
       "  'Jeff Hurd (politician)',\n",
       "  'Lauren Boebert',\n",
       "  'Jeff Crank',\n",
       "  'Gabe Evans',\n",
       "  'Neal Dunn',\n",
       "  'Kat Cammack',\n",
       "  'Aaron Bean',\n",
       "  'John Rutherford (Florida politician)',\n",
       "  'Cory Mills',\n",
       "  'Mike Haridopolos',\n",
       "  'Daniel Webster (Florida politician)',\n",
       "  'Gus Bilirakis',\n",
       "  'Anna Paulina Luna',\n",
       "  'Laurel Lee',\n",
       "  'Vern Buchanan',\n",
       "  'Greg Steube',\n",
       "  'Scott Franklin (politician)',\n",
       "  'Byron Donalds',\n",
       "  'Brian Mast',\n",
       "  'Buddy Carter',\n",
       "  'Brian Jack',\n",
       "  'Rich McCormick',\n",
       "  'Austin Scott (politician)',\n",
       "  'Andrew Clyde',\n",
       "  'Mike Collins (politician)',\n",
       "  'Barry Loudermilk',\n",
       "  'Rick Allen (politician)',\n",
       "  'Marjorie Taylor Greene',\n",
       "  'Russ Fulcher',\n",
       "  'Mike Simpson',\n",
       "  'Mike Bost',\n",
       "  'Mary Miller (politician)',\n",
       "  'Darin LaHood',\n",
       "  'Rudy Yakym',\n",
       "  'Marlin Stutzman',\n",
       "  'Jim Baird (American politician)',\n",
       "  'Victoria Spartz',\n",
       "  'Jefferson Shreve',\n",
       "  'Mark Messmer',\n",
       "  'Erin Houchin',\n",
       "  'Mariannette Miller-Meeks',\n",
       "  'Ashley Hinson',\n",
       "  'Zach Nunn',\n",
       "  'Randy Feenstra',\n",
       "  'Tracey Mann',\n",
       "  'Derek Schmidt',\n",
       "  'Ron Estes',\n",
       "  'James Comer (politician)',\n",
       "  'Brett Guthrie',\n",
       "  'Thomas Massie',\n",
       "  'Hal Rogers',\n",
       "  'Andy Barr (American politician)',\n",
       "  'Steve Scalise',\n",
       "  'Clay Higgins',\n",
       "  'Mike Johnson',\n",
       "  'Julia Letlow',\n",
       "  'Andy Harris (politician)',\n",
       "  'Jack Bergman',\n",
       "  'John Moolenaar',\n",
       "  'Bill Huizenga',\n",
       "  'Tim Walberg',\n",
       "  'Tom Barrett (Michigan politician)',\n",
       "  'Lisa McClain',\n",
       "  'John James (Michigan politician)',\n",
       "  'Brad Finstad',\n",
       "  'Tom Emmer',\n",
       "  'Michelle Fischbach',\n",
       "  'Pete Stauber',\n",
       "  'Trent Kelly',\n",
       "  'Michael Guest (politician)',\n",
       "  'Mike Ezell',\n",
       "  'Ann Wagner',\n",
       "  'Bob Onder',\n",
       "  'Mark Alford (politician)',\n",
       "  'Sam Graves',\n",
       "  'Eric Burlison',\n",
       "  'Jason Smith (American politician)',\n",
       "  'Ryan Zinke',\n",
       "  'Troy Downing',\n",
       "  'Mike Flood (politician)',\n",
       "  'Don Bacon',\n",
       "  'Adrian Smith (politician)',\n",
       "  'Mark Amodei',\n",
       "  'Jeff Van Drew',\n",
       "  'Chris Smith (New Jersey politician)',\n",
       "  'Thomas Kean Jr.',\n",
       "  'Nick LaLota',\n",
       "  'Andrew Garbarino',\n",
       "  'Nicole Malliotakis',\n",
       "  'Mike Lawler',\n",
       "  'Elise Stefanik',\n",
       "  'Nick Langworthy',\n",
       "  'Claudia Tenney',\n",
       "  'Greg Murphy (politician)',\n",
       "  'Virginia Foxx',\n",
       "  'Addison McDowell',\n",
       "  'David Rouzer',\n",
       "  'Mark Harris (North Carolina politician)',\n",
       "  'Richard Hudson (American politician)',\n",
       "  'Pat Harrigan',\n",
       "  'Chuck Edwards',\n",
       "  'Brad Knott',\n",
       "  'Tim Moore (North Carolina politician)',\n",
       "  'Julie Fedorchak',\n",
       "  'David Taylor (Ohio politician)',\n",
       "  'Jim Jordan',\n",
       "  'Bob Latta',\n",
       "  'Michael Rulli',\n",
       "  'Max Miller (politician)',\n",
       "  'Warren Davidson',\n",
       "  'Mike Turner',\n",
       "  'Troy Balderson',\n",
       "  'David Joyce (politician)',\n",
       "  'Mike Carey (politician)',\n",
       "  'Kevin Hern',\n",
       "  'Josh Brecheen',\n",
       "  'Frank Lucas (Oklahoma politician)',\n",
       "  'Tom Cole',\n",
       "  'Stephanie Bice',\n",
       "  'Cliff Bentz',\n",
       "  'Brian Fitzpatrick (American politician)',\n",
       "  'Ryan Mackenzie',\n",
       "  'Rob Bresnahan',\n",
       "  'Dan Meuser',\n",
       "  'Scott Perry (politician)',\n",
       "  'Lloyd Smucker',\n",
       "  'John Joyce (American politician)',\n",
       "  'Guy Reschenthaler',\n",
       "  'Glenn Thompson (politician)',\n",
       "  'Mike Kelly (Pennsylvania politician)',\n",
       "  'Nancy Mace',\n",
       "  'Joe Wilson (American politician)',\n",
       "  'Sheri Biggs',\n",
       "  'William Timmons (politician)',\n",
       "  'Ralph Norman',\n",
       "  'Russell Fry (politician)',\n",
       "  'Dusty Johnson',\n",
       "  'Diana Harshbarger',\n",
       "  'Tim Burchett',\n",
       "  'Chuck Fleischmann',\n",
       "  'Scott DesJarlais',\n",
       "  'Andy Ogles',\n",
       "  'John Rose (Tennessee politician)',\n",
       "  'Mark E. Green',\n",
       "  'David Kustoff',\n",
       "  'Nathaniel Moran',\n",
       "  'Dan Crenshaw',\n",
       "  'Keith Self',\n",
       "  'Pat Fallon',\n",
       "  'Lance Gooden',\n",
       "  'Jake Ellzey',\n",
       "  'Morgan Luttrell',\n",
       "  'Michael McCaul',\n",
       "  'August Pfluger',\n",
       "  'Craig Goldman',\n",
       "  'Ronny Jackson',\n",
       "  'Randy Weber',\n",
       "  'Monica De La Cruz',\n",
       "  'Pete Sessions',\n",
       "  'Jodey Arrington',\n",
       "  'Chip Roy',\n",
       "  'Troy Nehls',\n",
       "  'Tony Gonzales',\n",
       "  'Beth Van Duyne',\n",
       "  'Roger Williams (Texas politician)',\n",
       "  'Brandon Gill',\n",
       "  'Michael Cloud',\n",
       "  'John Carter (Texas politician)',\n",
       "  'Brian Babin',\n",
       "  'Wesley Hunt',\n",
       "  'Blake Moore',\n",
       "  'Celeste Maloy',\n",
       "  'Mike Kennedy (politician)',\n",
       "  'Burgess Owens',\n",
       "  'Rob Wittman',\n",
       "  'Jen Kiggans',\n",
       "  'John McGuire (Virginia politician)',\n",
       "  'Ben Cline',\n",
       "  'Morgan Griffith',\n",
       "  'Dan Newhouse',\n",
       "  'Michael Baumgartner',\n",
       "  'Carol Miller (politician)',\n",
       "  'Riley Moore',\n",
       "  'Bryan Steil',\n",
       "  'Derrick Van Orden',\n",
       "  'Scott L. Fitzgerald',\n",
       "  'Glenn Grothman',\n",
       "  'Tom Tiffany',\n",
       "  'Tony Wied',\n",
       "  'Harriet Hageman'],\n",
       " 'Democrats': ['Shomari Figures',\n",
       "  'Terri Sewell',\n",
       "  'Yassamin Ansari',\n",
       "  'Greg Stanton',\n",
       "  'Jared Huffman',\n",
       "  'Mike Thompson (California politician)',\n",
       "  'Ami Bera',\n",
       "  'Doris Matsui',\n",
       "  'John Garamendi',\n",
       "  'Josh Harder',\n",
       "  'Mark DeSaulnier',\n",
       "  'Nancy Pelosi',\n",
       "  'Lateefah Simon',\n",
       "  'Adam Gray',\n",
       "  'Eric Swalwell',\n",
       "  'Kevin Mullin',\n",
       "  'Sam Liccardo',\n",
       "  'Ro Khanna',\n",
       "  'Zoe Lofgren',\n",
       "  'Jimmy Panetta',\n",
       "  'Jim Costa',\n",
       "  'Salud Carbajal',\n",
       "  'Raul Ruiz (politician)',\n",
       "  'Julia Brownley',\n",
       "  'George T. Whitesides',\n",
       "  'Judy Chu',\n",
       "  'Luz Rivas',\n",
       "  'Laura Friedman',\n",
       "  'Gil Cisneros',\n",
       "  'Brad Sherman',\n",
       "  'Pete Aguilar',\n",
       "  'Jimmy Gomez',\n",
       "  'Norma Torres',\n",
       "  'Ted Lieu',\n",
       "  'Sydney Kamlager-Dove',\n",
       "  'Mark Takano',\n",
       "  'Robert Garcia (California politician)',\n",
       "  'Maxine Waters',\n",
       "  'Derek Tran',\n",
       "  'Lou Correa',\n",
       "  'Dave Min',\n",
       "  'Mike Levin',\n",
       "  'Scott Peters (politician)',\n",
       "  'Sara Jacobs',\n",
       "  'Juan Vargas',\n",
       "  'Diana DeGette',\n",
       "  'Joe Neguse',\n",
       "  'Jason Crow',\n",
       "  'Brittany Pettersen',\n",
       "  'John B. Larson',\n",
       "  'Joe Courtney (politician)',\n",
       "  'Rosa DeLauro',\n",
       "  'Jim Himes',\n",
       "  'Jahana Hayes',\n",
       "  'Sarah McBride',\n",
       "  'Darren Soto',\n",
       "  'Maxwell Frost',\n",
       "  'Kathy Castor',\n",
       "  'Sheila Cherfilus-McCormick',\n",
       "  'Lois Frankel',\n",
       "  'Jared Moskowitz',\n",
       "  'Frederica Wilson',\n",
       "  'Debbie Wasserman Schultz',\n",
       "  'Sanford Bishop',\n",
       "  'Hank Johnson',\n",
       "  'Nikema Williams',\n",
       "  'Lucy McBath',\n",
       "  'David Scott (Georgia politician)',\n",
       "  'Ed Case',\n",
       "  'Jill Tokuda',\n",
       "  'Jonathan Jackson (Illinois politician)',\n",
       "  'Robin Kelly',\n",
       "  'Delia Ramirez',\n",
       "  'Mike Quigley',\n",
       "  'Sean Casten',\n",
       "  'Danny Davis (Illinois politician)',\n",
       "  'Raja Krishnamoorthi',\n",
       "  'Jan Schakowsky',\n",
       "  'Brad Schneider',\n",
       "  'Bill Foster (politician)',\n",
       "  'Nikki Budzinski',\n",
       "  'Lauren Underwood',\n",
       "  'Eric Sorensen (politician)',\n",
       "  'Frank J. Mrvan',\n",
       "  'Sharice Davids',\n",
       "  'Morgan McGarvey',\n",
       "  'Troy Carter (politician)',\n",
       "  'Cleo Fields',\n",
       "  'Chellie Pingree',\n",
       "  'Jared Golden',\n",
       "  'Johnny Olszewski',\n",
       "  'Sarah Elfreth',\n",
       "  'Glenn Ivey',\n",
       "  'Steny Hoyer',\n",
       "  'April McClain-Delaney',\n",
       "  'Kweisi Mfume',\n",
       "  'Jamie Raskin',\n",
       "  'Richard Neal',\n",
       "  'Jim McGovern (American politician)',\n",
       "  'Lori Trahan',\n",
       "  'Jake Auchincloss',\n",
       "  'Katherine Clark',\n",
       "  'Seth Moulton',\n",
       "  'Ayanna Pressley',\n",
       "  'Stephen F. Lynch',\n",
       "  'Bill Keating (politician)',\n",
       "  'Hillary Scholten',\n",
       "  'Debbie Dingell',\n",
       "  'Kristen McDonald Rivet',\n",
       "  'Haley Stevens',\n",
       "  'Rashida Tlaib',\n",
       "  'Shri Thanedar',\n",
       "  'Angie Craig',\n",
       "  'Kelly Morrison',\n",
       "  'Betty McCollum',\n",
       "  'Ilhan Omar',\n",
       "  'Bennie Thompson',\n",
       "  'Wesley Bell',\n",
       "  'Emanuel Cleaver',\n",
       "  'Dina Titus',\n",
       "  'Susie Lee',\n",
       "  'Steven Horsford',\n",
       "  'Chris Pappas (American politician)',\n",
       "  'Maggie Goodlander',\n",
       "  'Donald Norcross',\n",
       "  'Herb Conaway',\n",
       "  'Josh Gottheimer',\n",
       "  'Frank Pallone',\n",
       "  'Rob Menendez',\n",
       "  'Nellie Pou',\n",
       "  'LaMonica McIver',\n",
       "  'Mikie Sherrill',\n",
       "  'Bonnie Watson Coleman',\n",
       "  'Melanie Stansbury',\n",
       "  'Gabe Vasquez',\n",
       "  'Teresa Leger Fernandez',\n",
       "  'Tom Suozzi',\n",
       "  'Laura Gillen',\n",
       "  'Gregory Meeks',\n",
       "  'Grace Meng',\n",
       "  'Hakeem Jeffries',\n",
       "  'Yvette Clarke',\n",
       "  'Dan Goldman',\n",
       "  'Jerry Nadler',\n",
       "  'Adriano Espaillat',\n",
       "  'Alexandria Ocasio-Cortez',\n",
       "  'Ritchie Torres',\n",
       "  'George Latimer (New York politician)',\n",
       "  'Pat Ryan (politician)',\n",
       "  'Josh Riley',\n",
       "  'Paul Tonko',\n",
       "  'John Mannion (American politician)',\n",
       "  'Joseph Morelle',\n",
       "  'Tim Kennedy (politician)',\n",
       "  'Don Davis (North Carolina politician)',\n",
       "  'Deborah K. Ross',\n",
       "  'Valerie Foushee',\n",
       "  'Alma Adams',\n",
       "  'Greg Landsman',\n",
       "  'Joyce Beatty',\n",
       "  'Marcy Kaptur',\n",
       "  'Shontel Brown',\n",
       "  'Emilia Sykes',\n",
       "  'Suzanne Bonamici',\n",
       "  'Maxine Dexter',\n",
       "  'Val Hoyle',\n",
       "  'Janelle Bynum',\n",
       "  'Andrea Salinas',\n",
       "  'Brendan Boyle',\n",
       "  'Dwight Evans (politician)',\n",
       "  'Madeleine Dean',\n",
       "  'Mary Gay Scanlon',\n",
       "  'Chrissy Houlahan',\n",
       "  'Summer Lee',\n",
       "  'Chris Deluzio',\n",
       "  'Gabe Amo',\n",
       "  'Seth Magaziner',\n",
       "  'Jim Clyburn',\n",
       "  'Steve Cohen (politician)',\n",
       "  'Lizzie Fletcher',\n",
       "  'Al Green (politician)',\n",
       "  'Veronica Escobar',\n",
       "  'Sylvester Turner',\n",
       "  'Joaquin Castro',\n",
       "  'Henry Cuellar',\n",
       "  'Sylvia Garcia',\n",
       "  'Jasmine Crockett',\n",
       "  'Julie Johnson (politician)',\n",
       "  'Marc Veasey',\n",
       "  'Vicente Gonzalez (politician)',\n",
       "  'Greg Casar',\n",
       "  'Lloyd Doggett',\n",
       "  'Becca Balint',\n",
       "  'Bobby Scott (politician)',\n",
       "  'Jennifer McClellan',\n",
       "  'Eugene Vindman',\n",
       "  'Don Beyer',\n",
       "  'Suhas Subramanyam',\n",
       "  'Gerry Connolly',\n",
       "  'Suzan DelBene',\n",
       "  'Rick Larsen',\n",
       "  'Marie Gluesenkamp Perez',\n",
       "  'Emily Randall',\n",
       "  'Pramila Jayapal',\n",
       "  'Kim Schrier',\n",
       "  'Adam Smith (Washington politician)',\n",
       "  'Marilyn Strickland',\n",
       "  'Mark Pocan',\n",
       "  'Gwen Moore']}"
      ]
     },
     "execution_count": 7,
     "metadata": {},
     "output_type": "execute_result"
    }
   ],
   "source": [
    "members_of_congress_wiki_pages_names = load_json(\"members_of_congress_wiki_pages.json\")\n",
    "members_of_congress_wiki_pages_names\n"
   ]
  },
  {
   "cell_type": "code",
   "execution_count": null,
   "metadata": {},
   "outputs": [
    {
     "name": "stderr",
     "output_type": "stream",
     "text": [
      "  0%|          | 0/215 [00:00<?, ?it/s]"
     ]
    },
    {
     "name": "stdout",
     "output_type": "stream",
     "text": [
      "Successfully downloaded article: Barry Moore (American politician)\n"
     ]
    },
    {
     "name": "stderr",
     "output_type": "stream",
     "text": [
      "  0%|          | 1/215 [00:01<04:17,  1.20s/it]"
     ]
    },
    {
     "name": "stdout",
     "output_type": "stream",
     "text": [
      "Successfully downloaded article: Mike Rogers (Alabama politician)\n"
     ]
    },
    {
     "name": "stderr",
     "output_type": "stream",
     "text": [
      "  1%|          | 2/215 [00:02<04:46,  1.35s/it]"
     ]
    },
    {
     "name": "stdout",
     "output_type": "stream",
     "text": [
      "Successfully downloaded article: Robert Aderholt\n"
     ]
    },
    {
     "name": "stderr",
     "output_type": "stream",
     "text": [
      "  2%|▏         | 4/215 [00:04<03:50,  1.09s/it]"
     ]
    },
    {
     "name": "stdout",
     "output_type": "stream",
     "text": [
      "Page 'Dale Strong' does not exist.\n",
      "Successfully downloaded article: Gary Palmer (politician)\n"
     ]
    },
    {
     "name": "stderr",
     "output_type": "stream",
     "text": [
      "  2%|▏         | 5/215 [00:05<03:56,  1.13s/it]"
     ]
    },
    {
     "name": "stdout",
     "output_type": "stream",
     "text": [
      "Successfully downloaded article: Nick Begich III\n"
     ]
    },
    {
     "name": "stderr",
     "output_type": "stream",
     "text": [
      "  3%|▎         | 6/215 [00:07<04:05,  1.17s/it]"
     ]
    },
    {
     "name": "stdout",
     "output_type": "stream",
     "text": [
      "Successfully downloaded article: David Schweikert\n"
     ]
    },
    {
     "name": "stderr",
     "output_type": "stream",
     "text": [
      "  4%|▎         | 8/215 [00:09<03:49,  1.11s/it]"
     ]
    },
    {
     "name": "stdout",
     "output_type": "stream",
     "text": [
      "Page 'Eli Crane' does not exist.\n",
      "Successfully downloaded article: Andy Biggs\n"
     ]
    },
    {
     "name": "stderr",
     "output_type": "stream",
     "text": [
      "  4%|▍         | 9/215 [00:10<04:06,  1.20s/it]"
     ]
    },
    {
     "name": "stdout",
     "output_type": "stream",
     "text": [
      "Successfully downloaded article: Juan Ciscomani\n"
     ]
    },
    {
     "name": "stderr",
     "output_type": "stream",
     "text": [
      "  5%|▌         | 11/215 [00:12<03:34,  1.05s/it]"
     ]
    },
    {
     "name": "stdout",
     "output_type": "stream",
     "text": [
      "Page 'Abraham Hamadeh' does not exist.\n"
     ]
    },
    {
     "name": "stderr",
     "output_type": "stream",
     "text": [
      "  6%|▌         | 12/215 [00:13<03:14,  1.04it/s]"
     ]
    },
    {
     "name": "stdout",
     "output_type": "stream",
     "text": [
      "Page 'Paul Gosar' does not exist.\n",
      "Successfully downloaded article: Rick Crawford (politician)\n"
     ]
    },
    {
     "name": "stderr",
     "output_type": "stream",
     "text": [
      "  6%|▌         | 13/215 [00:14<03:30,  1.04s/it]"
     ]
    },
    {
     "name": "stdout",
     "output_type": "stream",
     "text": [
      "Successfully downloaded article: French Hill (politician)\n"
     ]
    },
    {
     "name": "stderr",
     "output_type": "stream",
     "text": [
      "  7%|▋         | 14/215 [00:15<03:47,  1.13s/it]"
     ]
    },
    {
     "name": "stdout",
     "output_type": "stream",
     "text": [
      "Successfully downloaded article: Steve Womack\n"
     ]
    },
    {
     "name": "stderr",
     "output_type": "stream",
     "text": [
      "  7%|▋         | 15/215 [00:17<03:52,  1.16s/it]"
     ]
    },
    {
     "name": "stdout",
     "output_type": "stream",
     "text": [
      "Successfully downloaded article: Bruce Westerman\n"
     ]
    },
    {
     "name": "stderr",
     "output_type": "stream",
     "text": [
      "  7%|▋         | 16/215 [00:18<04:01,  1.21s/it]"
     ]
    },
    {
     "name": "stdout",
     "output_type": "stream",
     "text": [
      "Successfully downloaded article: Doug LaMalfa\n"
     ]
    },
    {
     "name": "stderr",
     "output_type": "stream",
     "text": [
      "  8%|▊         | 17/215 [00:19<04:13,  1.28s/it]"
     ]
    },
    {
     "name": "stdout",
     "output_type": "stream",
     "text": [
      "Successfully downloaded article: Kevin Kiley (politician)\n"
     ]
    },
    {
     "name": "stderr",
     "output_type": "stream",
     "text": [
      "  8%|▊         | 18/215 [00:21<04:09,  1.26s/it]"
     ]
    }
   ],
   "source": [
    "republicans_texts = []\n",
    "\n",
    "for i in tqdm(range(len(members_of_congress_wiki_pages_names[\"Republicans\"]))):\n",
    "    title = members_of_congress_wiki_pages_names[\"Republicans\"][i]\n",
    "    republicans_texts.append(wiki.get_content(title))"
   ]
  },
  {
   "cell_type": "code",
   "execution_count": null,
   "metadata": {},
   "outputs": [],
   "source": [
    "\n",
    "democrats_texts = []\n",
    "\n"
   ]
  }
 ],
 "metadata": {
  "kernelspec": {
   "display_name": "dataconda",
   "language": "python",
   "name": "python3"
  },
  "language_info": {
   "codemirror_mode": {
    "name": "ipython",
    "version": 3
   },
   "file_extension": ".py",
   "mimetype": "text/x-python",
   "name": "python",
   "nbconvert_exporter": "python",
   "pygments_lexer": "ipython3",
   "version": "3.10.15"
  }
 },
 "nbformat": 4,
 "nbformat_minor": 2
}
